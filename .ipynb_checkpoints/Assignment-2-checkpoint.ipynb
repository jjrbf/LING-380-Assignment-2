{
 "cells": [
  {
   "cell_type": "markdown",
   "id": "04200311-ed8a-489d-9616-959ff240923d",
   "metadata": {},
   "source": [
    "# Assignment 2 - Python for Text Analysis"
   ]
  },
  {
   "cell_type": "markdown",
   "id": "0c176743-e2a0-4d6b-8d52-0c58b3b08d8c",
   "metadata": {},
   "source": [
    "| Name          | Student ID    | Section contributed | Section Edited | Other Contributions |\n",
    "| ------------- | ------------- | ------------- | ------------- | -------------|\n",
    "| Dela Torre, Kyla | 301361824 | Data collection, Reflection | Topic Labelling | Ideas for Project |\n",
    "| Ferrera, Johann | 301601581 | Data Cleaning, Functions | Topic Labelling | Set Up Github Repo |"
   ]
  },
  {
   "cell_type": "markdown",
   "id": "4ffa8db6-ac47-47dd-bf6a-7882387986b4",
   "metadata": {},
   "source": [
    "## Import Libraries"
   ]
  },
  {
   "cell_type": "code",
   "execution_count": 1,
   "id": "25e309fc-25dc-440f-abd1-8fc85c9c5995",
   "metadata": {},
   "outputs": [],
   "source": [
    "import numpy as np\n",
    "import pandas as pd\n",
    "import re\n",
    "import nltk\n",
    "from nltk import word_tokenize\n",
    "from nltk.stem import WordNetLemmatizer\n",
    "from nltk.corpus import stopwords\n",
    "stop_words = stopwords.words('english')\n",
    "import gensim\n",
    "from gensim import corpora\n",
    "from gensim.models import LdaModel"
   ]
  },
  {
   "cell_type": "markdown",
   "id": "6eabcb98-931b-4c0a-a9e2-d4e4fbc387d0",
   "metadata": {},
   "source": [
    "## Data Preprocessing"
   ]
  },
  {
   "cell_type": "markdown",
   "id": "bcf948f5-5c69-47d9-b356-d13769279feb",
   "metadata": {},
   "source": [
    "### Import and Examine Data"
   ]
  },
  {
   "cell_type": "code",
   "execution_count": 2,
   "id": "275a11ac-a956-45d4-9466-7be8418b17b0",
   "metadata": {},
   "outputs": [
    {
     "name": "stdout",
     "output_type": "stream",
     "text": [
      "<class 'pandas.core.frame.DataFrame'>\n",
      "RangeIndex: 11414 entries, 0 to 11413\n",
      "Data columns (total 7 columns):\n",
      " #   Column              Non-Null Count  Dtype \n",
      "---  ------              --------------  ----- \n",
      " 0   article_id          11414 non-null  object\n",
      " 1   sectionName         11414 non-null  object\n",
      " 2   webTitle            11414 non-null  object\n",
      " 3   webUrl              11414 non-null  object\n",
      " 4   bodyContent         11414 non-null  object\n",
      " 5   webPublicationDate  11414 non-null  object\n",
      " 6   id                  11414 non-null  int64 \n",
      "dtypes: int64(1), object(6)\n",
      "memory usage: 624.3+ KB\n"
     ]
    },
    {
     "data": {
      "text/html": [
       "<div>\n",
       "<style scoped>\n",
       "    .dataframe tbody tr th:only-of-type {\n",
       "        vertical-align: middle;\n",
       "    }\n",
       "\n",
       "    .dataframe tbody tr th {\n",
       "        vertical-align: top;\n",
       "    }\n",
       "\n",
       "    .dataframe thead th {\n",
       "        text-align: right;\n",
       "    }\n",
       "</style>\n",
       "<table border=\"1\" class=\"dataframe\">\n",
       "  <thead>\n",
       "    <tr style=\"text-align: right;\">\n",
       "      <th></th>\n",
       "      <th>article_id</th>\n",
       "      <th>sectionName</th>\n",
       "      <th>webTitle</th>\n",
       "      <th>webUrl</th>\n",
       "      <th>bodyContent</th>\n",
       "      <th>webPublicationDate</th>\n",
       "      <th>id</th>\n",
       "    </tr>\n",
       "  </thead>\n",
       "  <tbody>\n",
       "    <tr>\n",
       "      <th>0</th>\n",
       "      <td>football/2022/jan/31/liverpools-late-push-to-s...</td>\n",
       "      <td>Football</td>\n",
       "      <td>Liverpool’s late push to sign Fabio Carvalho f...</td>\n",
       "      <td>https://www.theguardian.com/football/2022/jan/...</td>\n",
       "      <td>Liverpool were frustrated in their attempt to ...</td>\n",
       "      <td>2022-01-31T23:41:16Z</td>\n",
       "      <td>138340</td>\n",
       "    </tr>\n",
       "    <tr>\n",
       "      <th>1</th>\n",
       "      <td>world/2022/jan/31/spike-in-covid-cases-in-engl...</td>\n",
       "      <td>World news</td>\n",
       "      <td>Rise in Covid cases in England as reinfections...</td>\n",
       "      <td>https://www.theguardian.com/world/2022/jan/31/...</td>\n",
       "      <td>Another 92,000 Covid cases were reported for E...</td>\n",
       "      <td>2022-01-31T23:30:38Z</td>\n",
       "      <td>138341</td>\n",
       "    </tr>\n",
       "    <tr>\n",
       "      <th>2</th>\n",
       "      <td>australia-news/2022/feb/01/five-great-reads-au...</td>\n",
       "      <td>Australia news</td>\n",
       "      <td>Five Great Reads: Australian curlers, an intim...</td>\n",
       "      <td>https://www.theguardian.com/australia-news/202...</td>\n",
       "      <td>Good morning, welcome to February and to Five ...</td>\n",
       "      <td>2022-01-31T23:30:03Z</td>\n",
       "      <td>138342</td>\n",
       "    </tr>\n",
       "    <tr>\n",
       "      <th>3</th>\n",
       "      <td>football/2022/jan/31/barcelona-aubameyang-loan...</td>\n",
       "      <td>Football</td>\n",
       "      <td>Aubameyang to seal Barcelona move from Arsenal...</td>\n",
       "      <td>https://www.theguardian.com/football/2022/jan/...</td>\n",
       "      <td>Pierre-Emerick Aubameyang has passed a medical...</td>\n",
       "      <td>2022-01-31T23:26:50Z</td>\n",
       "      <td>138343</td>\n",
       "    </tr>\n",
       "    <tr>\n",
       "      <th>4</th>\n",
       "      <td>world/2022/jan/31/mexico-fourth-journalist-kil...</td>\n",
       "      <td>World news</td>\n",
       "      <td>‘We only have a pen’: fury as fourth journali...</td>\n",
       "      <td>https://www.theguardian.com/world/2022/jan/31/...</td>\n",
       "      <td>Journalists in Mexico have responded with fury...</td>\n",
       "      <td>2022-01-31T23:07:16Z</td>\n",
       "      <td>138344</td>\n",
       "    </tr>\n",
       "  </tbody>\n",
       "</table>\n",
       "</div>"
      ],
      "text/plain": [
       "                                          article_id     sectionName  \\\n",
       "0  football/2022/jan/31/liverpools-late-push-to-s...        Football   \n",
       "1  world/2022/jan/31/spike-in-covid-cases-in-engl...      World news   \n",
       "2  australia-news/2022/feb/01/five-great-reads-au...  Australia news   \n",
       "3  football/2022/jan/31/barcelona-aubameyang-loan...        Football   \n",
       "4  world/2022/jan/31/mexico-fourth-journalist-kil...      World news   \n",
       "\n",
       "                                            webTitle  \\\n",
       "0  Liverpool’s late push to sign Fabio Carvalho f...   \n",
       "1  Rise in Covid cases in England as reinfections...   \n",
       "2  Five Great Reads: Australian curlers, an intim...   \n",
       "3  Aubameyang to seal Barcelona move from Arsenal...   \n",
       "4   ‘We only have a pen’: fury as fourth journali...   \n",
       "\n",
       "                                              webUrl  \\\n",
       "0  https://www.theguardian.com/football/2022/jan/...   \n",
       "1  https://www.theguardian.com/world/2022/jan/31/...   \n",
       "2  https://www.theguardian.com/australia-news/202...   \n",
       "3  https://www.theguardian.com/football/2022/jan/...   \n",
       "4  https://www.theguardian.com/world/2022/jan/31/...   \n",
       "\n",
       "                                         bodyContent    webPublicationDate  \\\n",
       "0  Liverpool were frustrated in their attempt to ...  2022-01-31T23:41:16Z   \n",
       "1  Another 92,000 Covid cases were reported for E...  2022-01-31T23:30:38Z   \n",
       "2  Good morning, welcome to February and to Five ...  2022-01-31T23:30:03Z   \n",
       "3  Pierre-Emerick Aubameyang has passed a medical...  2022-01-31T23:26:50Z   \n",
       "4  Journalists in Mexico have responded with fury...  2022-01-31T23:07:16Z   \n",
       "\n",
       "       id  \n",
       "0  138340  \n",
       "1  138341  \n",
       "2  138342  \n",
       "3  138343  \n",
       "4  138344  "
      ]
     },
     "execution_count": 2,
     "metadata": {},
     "output_type": "execute_result"
    }
   ],
   "source": [
    "df = pd.read_csv('./data/guardian_articles_2022.csv', encoding = 'utf-8')\n",
    "df.info()\n",
    "df.head()"
   ]
  },
  {
   "cell_type": "markdown",
   "id": "82db8171-dde3-4d00-b824-8bb674cad5bd",
   "metadata": {},
   "source": [
    "### Define and Preprocess Text"
   ]
  },
  {
   "cell_type": "markdown",
   "id": "543d6047-80f7-4b27-8fbf-579e7708b4eb",
   "metadata": {},
   "source": [
    "Based on Week 13's lab."
   ]
  },
  {
   "cell_type": "code",
   "execution_count": 3,
   "id": "f0093da7-4210-4f98-a45a-016791fab38b",
   "metadata": {},
   "outputs": [],
   "source": [
    "# define a function that: 1. tokenizes, 2. lowercases and\n",
    "# 3. lemmatizes\n",
    "\n",
    "# create the lemmatizer first\n",
    "lemmatizer = WordNetLemmatizer()\n",
    "\n",
    "# define the function\n",
    "def process_text(text):\n",
    "    clean_text = re.sub(r'<.*?>', '', text) # I don't think there's any HTML tags in here but I'll keep it in here just in case\n",
    "    words = word_tokenize(clean_text.lower())\n",
    "    cleaned_words = [word for word in words if word.isalpha() and word not in stop_words]\n",
    "    lemmatized_words = [lemmatizer.lemmatize(word) for word in cleaned_words]\n",
    "    return lemmatized_words"
   ]
  },
  {
   "cell_type": "code",
   "execution_count": 4,
   "id": "de708041-b8fa-4fa4-9a7d-ac6a3fd67240",
   "metadata": {},
   "outputs": [],
   "source": [
    "df['processedBody'] = df['bodyContent'].apply(process_text)"
   ]
  },
  {
   "cell_type": "code",
   "execution_count": 5,
   "id": "cc2663cb-c779-4495-860b-7c864441ed43",
   "metadata": {},
   "outputs": [
    {
     "data": {
      "text/html": [
       "<div>\n",
       "<style scoped>\n",
       "    .dataframe tbody tr th:only-of-type {\n",
       "        vertical-align: middle;\n",
       "    }\n",
       "\n",
       "    .dataframe tbody tr th {\n",
       "        vertical-align: top;\n",
       "    }\n",
       "\n",
       "    .dataframe thead th {\n",
       "        text-align: right;\n",
       "    }\n",
       "</style>\n",
       "<table border=\"1\" class=\"dataframe\">\n",
       "  <thead>\n",
       "    <tr style=\"text-align: right;\">\n",
       "      <th></th>\n",
       "      <th>article_id</th>\n",
       "      <th>sectionName</th>\n",
       "      <th>webTitle</th>\n",
       "      <th>webUrl</th>\n",
       "      <th>bodyContent</th>\n",
       "      <th>webPublicationDate</th>\n",
       "      <th>id</th>\n",
       "      <th>processedBody</th>\n",
       "    </tr>\n",
       "  </thead>\n",
       "  <tbody>\n",
       "    <tr>\n",
       "      <th>0</th>\n",
       "      <td>football/2022/jan/31/liverpools-late-push-to-s...</td>\n",
       "      <td>Football</td>\n",
       "      <td>Liverpool’s late push to sign Fabio Carvalho f...</td>\n",
       "      <td>https://www.theguardian.com/football/2022/jan/...</td>\n",
       "      <td>Liverpool were frustrated in their attempt to ...</td>\n",
       "      <td>2022-01-31T23:41:16Z</td>\n",
       "      <td>138340</td>\n",
       "      <td>[liverpool, frustrated, attempt, sign, fabio, ...</td>\n",
       "    </tr>\n",
       "    <tr>\n",
       "      <th>1</th>\n",
       "      <td>world/2022/jan/31/spike-in-covid-cases-in-engl...</td>\n",
       "      <td>World news</td>\n",
       "      <td>Rise in Covid cases in England as reinfections...</td>\n",
       "      <td>https://www.theguardian.com/world/2022/jan/31/...</td>\n",
       "      <td>Another 92,000 Covid cases were reported for E...</td>\n",
       "      <td>2022-01-31T23:30:38Z</td>\n",
       "      <td>138341</td>\n",
       "      <td>[another, covid, case, reported, england, mond...</td>\n",
       "    </tr>\n",
       "    <tr>\n",
       "      <th>2</th>\n",
       "      <td>australia-news/2022/feb/01/five-great-reads-au...</td>\n",
       "      <td>Australia news</td>\n",
       "      <td>Five Great Reads: Australian curlers, an intim...</td>\n",
       "      <td>https://www.theguardian.com/australia-news/202...</td>\n",
       "      <td>Good morning, welcome to February and to Five ...</td>\n",
       "      <td>2022-01-31T23:30:03Z</td>\n",
       "      <td>138342</td>\n",
       "      <td>[good, morning, welcome, february, five, great...</td>\n",
       "    </tr>\n",
       "    <tr>\n",
       "      <th>3</th>\n",
       "      <td>football/2022/jan/31/barcelona-aubameyang-loan...</td>\n",
       "      <td>Football</td>\n",
       "      <td>Aubameyang to seal Barcelona move from Arsenal...</td>\n",
       "      <td>https://www.theguardian.com/football/2022/jan/...</td>\n",
       "      <td>Pierre-Emerick Aubameyang has passed a medical...</td>\n",
       "      <td>2022-01-31T23:26:50Z</td>\n",
       "      <td>138343</td>\n",
       "      <td>[aubameyang, passed, medical, due, confirmed, ...</td>\n",
       "    </tr>\n",
       "    <tr>\n",
       "      <th>4</th>\n",
       "      <td>world/2022/jan/31/mexico-fourth-journalist-kil...</td>\n",
       "      <td>World news</td>\n",
       "      <td>‘We only have a pen’: fury as fourth journali...</td>\n",
       "      <td>https://www.theguardian.com/world/2022/jan/31/...</td>\n",
       "      <td>Journalists in Mexico have responded with fury...</td>\n",
       "      <td>2022-01-31T23:07:16Z</td>\n",
       "      <td>138344</td>\n",
       "      <td>[journalist, mexico, responded, fury, despair,...</td>\n",
       "    </tr>\n",
       "  </tbody>\n",
       "</table>\n",
       "</div>"
      ],
      "text/plain": [
       "                                          article_id     sectionName  \\\n",
       "0  football/2022/jan/31/liverpools-late-push-to-s...        Football   \n",
       "1  world/2022/jan/31/spike-in-covid-cases-in-engl...      World news   \n",
       "2  australia-news/2022/feb/01/five-great-reads-au...  Australia news   \n",
       "3  football/2022/jan/31/barcelona-aubameyang-loan...        Football   \n",
       "4  world/2022/jan/31/mexico-fourth-journalist-kil...      World news   \n",
       "\n",
       "                                            webTitle  \\\n",
       "0  Liverpool’s late push to sign Fabio Carvalho f...   \n",
       "1  Rise in Covid cases in England as reinfections...   \n",
       "2  Five Great Reads: Australian curlers, an intim...   \n",
       "3  Aubameyang to seal Barcelona move from Arsenal...   \n",
       "4   ‘We only have a pen’: fury as fourth journali...   \n",
       "\n",
       "                                              webUrl  \\\n",
       "0  https://www.theguardian.com/football/2022/jan/...   \n",
       "1  https://www.theguardian.com/world/2022/jan/31/...   \n",
       "2  https://www.theguardian.com/australia-news/202...   \n",
       "3  https://www.theguardian.com/football/2022/jan/...   \n",
       "4  https://www.theguardian.com/world/2022/jan/31/...   \n",
       "\n",
       "                                         bodyContent    webPublicationDate  \\\n",
       "0  Liverpool were frustrated in their attempt to ...  2022-01-31T23:41:16Z   \n",
       "1  Another 92,000 Covid cases were reported for E...  2022-01-31T23:30:38Z   \n",
       "2  Good morning, welcome to February and to Five ...  2022-01-31T23:30:03Z   \n",
       "3  Pierre-Emerick Aubameyang has passed a medical...  2022-01-31T23:26:50Z   \n",
       "4  Journalists in Mexico have responded with fury...  2022-01-31T23:07:16Z   \n",
       "\n",
       "       id                                      processedBody  \n",
       "0  138340  [liverpool, frustrated, attempt, sign, fabio, ...  \n",
       "1  138341  [another, covid, case, reported, england, mond...  \n",
       "2  138342  [good, morning, welcome, february, five, great...  \n",
       "3  138343  [aubameyang, passed, medical, due, confirmed, ...  \n",
       "4  138344  [journalist, mexico, responded, fury, despair,...  "
      ]
     },
     "execution_count": 5,
     "metadata": {},
     "output_type": "execute_result"
    }
   ],
   "source": [
    "df.head()"
   ]
  },
  {
   "cell_type": "markdown",
   "id": "5b6db3a5-dca4-4759-a501-a9d1005b8b53",
   "metadata": {},
   "source": [
    "## Data Processing"
   ]
  },
  {
   "cell_type": "markdown",
   "id": "9d7b10fa-fa22-4bc3-a8cc-16000ab0720d",
   "metadata": {},
   "source": [
    "### Split up into months into separate dataframes"
   ]
  },
  {
   "cell_type": "markdown",
   "id": "0085d1da-13f2-4b32-91f4-38addc729530",
   "metadata": {},
   "source": [
    "The dataset only has entries from January until June. The following code puts each month into a separate dataset."
   ]
  },
  {
   "cell_type": "code",
   "execution_count": 6,
   "id": "967c4b8e-843d-4d93-981a-cbd8efcc2cfd",
   "metadata": {},
   "outputs": [],
   "source": [
    "# convert the date from the df. You only need to do this once for the df\n",
    "df['webPublicationDate'] = df['webPublicationDate'].astype(str)"
   ]
  },
  {
   "cell_type": "code",
   "execution_count": 7,
   "id": "84f71e6c-835b-4142-8d69-315d6a7aa8e8",
   "metadata": {},
   "outputs": [],
   "source": [
    "# create df_jan\n",
    "df_jan = df[df['webPublicationDate'].str.split('-').str[1] == '01']"
   ]
  },
  {
   "cell_type": "code",
   "execution_count": 8,
   "id": "6876f4c0-1c03-4f60-b544-9cce9c741c3c",
   "metadata": {},
   "outputs": [],
   "source": [
    "# create df_feb\n",
    "df_feb = df[df['webPublicationDate'].str.split('-').str[1] == '02']"
   ]
  },
  {
   "cell_type": "code",
   "execution_count": 9,
   "id": "f3b825b4-b033-41e0-8d7c-9baa4212178a",
   "metadata": {},
   "outputs": [],
   "source": [
    "# create df_mar\n",
    "df_mar = df[df['webPublicationDate'].str.split('-').str[1] == '03']"
   ]
  },
  {
   "cell_type": "code",
   "execution_count": 10,
   "id": "9ad94b8b-3059-4a53-bef6-1e01d09fd1c2",
   "metadata": {},
   "outputs": [],
   "source": [
    "# create df_apr\n",
    "df_apr = df[df['webPublicationDate'].str.split('-').str[1] == '04']"
   ]
  },
  {
   "cell_type": "code",
   "execution_count": 11,
   "id": "61e520b0-c37b-4953-ae91-20c5acf79e40",
   "metadata": {},
   "outputs": [],
   "source": [
    "# create df_may\n",
    "df_may = df[df['webPublicationDate'].str.split('-').str[1] == '05']"
   ]
  },
  {
   "cell_type": "code",
   "execution_count": 12,
   "id": "afb4a253-b465-408a-93d9-928657b8468d",
   "metadata": {},
   "outputs": [],
   "source": [
    "# create df_jun\n",
    "df_jun = df[df['webPublicationDate'].str.split('-').str[1] == '06']"
   ]
  },
  {
   "cell_type": "markdown",
   "id": "90b46011-05fd-40fe-9b7c-b8bf78f2c78b",
   "metadata": {},
   "source": [
    "### Running gensim for each year"
   ]
  },
  {
   "cell_type": "markdown",
   "id": "c0d0f10d-c168-41dd-a8d0-abcc08deb4a6",
   "metadata": {},
   "source": [
    "#### Dictionary"
   ]
  },
  {
   "cell_type": "code",
   "execution_count": 13,
   "id": "f35cd2ff-a548-4878-91bb-8082070313a8",
   "metadata": {},
   "outputs": [],
   "source": [
    "dictionary_jan = corpora.Dictionary(df_jan['processedBody'])\n",
    "dictionary_feb = corpora.Dictionary(df_feb['processedBody'])\n",
    "dictionary_mar = corpora.Dictionary(df_mar['processedBody'])\n",
    "dictionary_apr = corpora.Dictionary(df_apr['processedBody'])\n",
    "dictionary_may = corpora.Dictionary(df_may['processedBody'])\n",
    "dictionary_jun = corpora.Dictionary(df_jun['processedBody'])"
   ]
  },
  {
   "cell_type": "markdown",
   "id": "d546efa8-7316-4719-b1f2-40d64ad150de",
   "metadata": {},
   "source": [
    "#### Corpus"
   ]
  },
  {
   "cell_type": "code",
   "execution_count": 14,
   "id": "71e4e966-5c41-4c8a-8c56-b51425ef46ad",
   "metadata": {},
   "outputs": [],
   "source": [
    "corpus_jan = [dictionary_jan.doc2bow(text) for text in df_jan['processedBody']]\n",
    "corpus_feb = [dictionary_feb.doc2bow(text) for text in df_feb['processedBody']]\n",
    "corpus_mar = [dictionary_mar.doc2bow(text) for text in df_mar['processedBody']]\n",
    "corpus_apr = [dictionary_apr.doc2bow(text) for text in df_apr['processedBody']]\n",
    "corpus_may = [dictionary_may.doc2bow(text) for text in df_may['processedBody']]\n",
    "corpus_jun = [dictionary_jun.doc2bow(text) for text in df_jun['processedBody']]"
   ]
  },
  {
   "cell_type": "markdown",
   "id": "01c86318-5ef4-4fa9-94e6-f775c0b7f668",
   "metadata": {},
   "source": [
    "### LDA Model"
   ]
  },
  {
   "cell_type": "code",
   "execution_count": 15,
   "id": "7755ef89-5257-4a17-b2a0-b6adafb65f5d",
   "metadata": {},
   "outputs": [],
   "source": [
    "# create the LDA model\n",
    "lda_model_jan = LdaModel(corpus_jan, num_topics=10, id2word=dictionary_jan, passes=15)\n",
    "lda_model_feb = LdaModel(corpus_feb, num_topics=10, id2word=dictionary_feb, passes=15)\n",
    "lda_model_mar = LdaModel(corpus_mar, num_topics=10, id2word=dictionary_mar, passes=15)\n",
    "lda_model_apr = LdaModel(corpus_apr, num_topics=10, id2word=dictionary_apr, passes=15)\n",
    "lda_model_may = LdaModel(corpus_may, num_topics=10, id2word=dictionary_may, passes=15)\n",
    "lda_model_jun = LdaModel(corpus_jun, num_topics=10, id2word=dictionary_jun, passes=15)"
   ]
  },
  {
   "cell_type": "markdown",
   "id": "1b7da421-5a61-4c76-bdff-f5c026575e0c",
   "metadata": {},
   "source": [
    "## Results"
   ]
  },
  {
   "cell_type": "markdown",
   "id": "c50a7854-3fcd-4100-bcff-1c08e84b7689",
   "metadata": {},
   "source": [
    "### Section Topics"
   ]
  },
  {
   "cell_type": "markdown",
   "id": "ac9c94d6-b66e-4be9-8508-e7aa9ae0e5f7",
   "metadata": {},
   "source": [
    "These are the topics possible in the entire 2022 dataset:"
   ]
  },
  {
   "cell_type": "code",
   "execution_count": 16,
   "id": "a6326a8e-22d7-49cc-91a6-ee36a8b000b3",
   "metadata": {},
   "outputs": [
    {
     "name": "stdout",
     "output_type": "stream",
     "text": [
      "sectionName\n",
      "World news            1449\n",
      "Australia news         894\n",
      "Football               756\n",
      "Opinion                753\n",
      "Sport                  702\n",
      "Business               589\n",
      "US news                582\n",
      "UK news                567\n",
      "Politics               524\n",
      "Life and style         416\n",
      "Music                  400\n",
      "Environment            399\n",
      "Film                   389\n",
      "Society                348\n",
      "Books                  329\n",
      "Television & radio     328\n",
      "Stage                  231\n",
      "Art and design         169\n",
      "Money                  157\n",
      "Culture                154\n",
      "Food                   153\n",
      "Technology             148\n",
      "Media                  138\n",
      "Global development     137\n",
      "Education              106\n",
      "News                   105\n",
      "Travel                  90\n",
      "Science                 88\n",
      "Fashion                 63\n",
      "Law                     58\n",
      "Name: count, dtype: int64\n"
     ]
    }
   ],
   "source": [
    "section_counts = df['sectionName'].value_counts()\n",
    "filtered_sections = section_counts[section_counts > 50] # Only counts over 50\n",
    "\n",
    "with pd.option_context('display.max_rows', None):\n",
    "    print(filtered_sections)"
   ]
  },
  {
   "cell_type": "markdown",
   "id": "52706ed4-13df-4ed5-b8f3-6f7ff076dd27",
   "metadata": {},
   "source": [
    "### Topics"
   ]
  },
  {
   "cell_type": "markdown",
   "id": "05bae632-db79-4d76-9b04-7f06d346a508",
   "metadata": {},
   "source": [
    "These are the most popular topics from Jan-Jun 2022 from the articles from The Guardian.\n",
    "\n",
    "**Note**: \"u\" refers to the US."
   ]
  },
  {
   "cell_type": "markdown",
   "id": "e6a95646-9c57-4eb7-b186-e8805e73a555",
   "metadata": {},
   "source": [
    "#### January 2022"
   ]
  },
  {
   "cell_type": "code",
   "execution_count": 17,
   "id": "acde5d93-893e-43c0-947f-5f7554f6e7ee",
   "metadata": {},
   "outputs": [
    {
     "name": "stdout",
     "output_type": "stream",
     "text": [
      "Topic 0: said, year, price, data, one, people, u, cost, also, service, uk, may, tax, personal, company, last, government, time, rate, bill\n",
      "\n",
      "Topic 1: said, nadal, set, open, match, one, tennis, year, australian, slam, time, first, final, two, also, barty, title, grand, would, win\n",
      "\n",
      "Topic 2: woman, court, first, one, supreme, year, black, justice, also, abortion, song, biden, child, died, time, life, bbc, two, case, music\n",
      "\n",
      "Topic 3: said, people, would, year, u, say, one, time, also, could, ukraine, country, russia, told, government, day, new, last, right, two\n",
      "\n",
      "Topic 4: said, report, police, gray, would, investigation, inquiry, met, one, year, say, time, could, people, evidence, also, minister, party, johnson, full\n",
      "\n",
      "Topic 5: one, like, time, first, game, year, say, get, two, thing, team, back, good, last, make, really, new, world, play, would\n",
      "\n",
      "Topic 6: said, government, people, year, new, would, health, covid, school, also, pandemic, child, australia, country, need, vaccine, care, time, case, one\n",
      "\n",
      "Topic 7: one, year, also, would, said, like, new, club, time, work, say, people, first, player, world, could, way, u, make, day\n",
      "\n",
      "Topic 8: said, say, one, people, year, test, also, time, like, would, new, first, day, week, two, get, back, going, last, care\n",
      "\n",
      "Topic 9: johnson, said, minister, party, would, government, prime, one, mp, people, time, tory, u, could, conservative, also, week, political, former, right\n",
      "\n"
     ]
    }
   ],
   "source": [
    "# print the top 20 words for each topic in January of 2022\n",
    "topics = lda_model_jan.print_topics(num_words=20)\n",
    "for topic_num, topic in topics:\n",
    "    print(f\"Topic {topic_num}: \", end=\"\")\n",
    "    words = topic.split(' + ')\n",
    "    word_list = [word.split('*')[1].strip('\\\"') for word in words] \n",
    "    print(\", \".join(word_list))\n",
    "    print()"
   ]
  },
  {
   "cell_type": "markdown",
   "id": "fef73819-51fa-4230-85c1-10149001a601",
   "metadata": {},
   "source": [
    "#### February 2022"
   ]
  },
  {
   "cell_type": "code",
   "execution_count": 18,
   "id": "5c003df1-a3aa-4584-8a2d-942f91da6d5d",
   "metadata": {},
   "outputs": [
    {
     "name": "stdout",
     "output_type": "stream",
     "text": [
      "Topic 0: person, said, one, two, court, time, told, like, game, word, also, round, letter, would, minute, first, add, man, get, another\n",
      "\n",
      "Topic 1: said, would, energy, agl, plant, year, australia, company, coal, government, last, power, abortion, frog, woman, new, one, also, price, police\n",
      "\n",
      "Topic 2: say, garden, one, get, fish, wale, year, time, also, plant, would, home, like, scotland, back, good, two, hallos, way, food\n",
      "\n",
      "Topic 3: game, team, one, said, player, league, time, two, season, year, first, last, would, club, goal, england, back, win, three, city\n",
      "\n",
      "Topic 4: say, one, like, people, year, time, life, first, new, work, get, would, make, way, show, also, thing, film, world, feel\n",
      "\n",
      "Topic 5: said, court, woman, year, people, would, say, school, police, child, also, one, u, case, government, time, right, student, group, justice\n",
      "\n",
      "Topic 6: said, people, government, year, health, covid, would, new, pandemic, also, say, one, time, could, service, uk, home, public, worker, need\n",
      "\n",
      "Topic 7: said, ukraine, russian, russia, putin, ukrainian, would, people, country, war, u, government, also, minister, invasion, military, force, president, kyiv, sanction\n",
      "\n",
      "Topic 8: price, gas, russia, said, ukraine, energy, oil, russian, market, bank, could, year, would, u, supply, europe, world, cost, country, crisis\n",
      "\n",
      "Topic 9: said, company, bank, would, uk, russian, year, trump, also, sanction, u, new, business, russia, government, country, one, including, state, former\n",
      "\n"
     ]
    }
   ],
   "source": [
    "# print the top 20 words for each topic in February of 2022\n",
    "topics = lda_model_feb.print_topics(num_words=20)\n",
    "for topic_num, topic in topics:\n",
    "    print(f\"Topic {topic_num}: \", end=\"\")\n",
    "    words = topic.split(' + ')\n",
    "    word_list = [word.split('*')[1].strip('\\\"') for word in words] \n",
    "    print(\", \".join(word_list))\n",
    "    print()"
   ]
  },
  {
   "cell_type": "markdown",
   "id": "990f4082-fcef-4f1a-b114-d0132e847aba",
   "metadata": {},
   "source": [
    "#### March 2022"
   ]
  },
  {
   "cell_type": "code",
   "execution_count": 19,
   "id": "9d1c1fc4-7f75-4491-ad54-1ac2ee5108e9",
   "metadata": {},
   "outputs": [
    {
     "name": "stdout",
     "output_type": "stream",
     "text": [
      "Topic 0: say, said, one, like, time, would, people, also, year, two, spa, day, first, make, back, new, flood, water, could, get\n",
      "\n",
      "Topic 1: one, news, royal, british, bbc, said, u, two, letter, slavery, time, year, william, people, caribbean, jamaica, world, reparation, britain, human\n",
      "\n",
      "Topic 2: said, year, told, person, would, court, australia, new, people, child, also, family, one, study, time, work, health, two, guardian, could\n",
      "\n",
      "Topic 3: said, government, would, year, people, uk, minister, also, cost, could, australia, new, price, last, week, energy, company, time, country, tax\n",
      "\n",
      "Topic 4: people, said, covid, smith, best, oscar, health, one, year, also, film, nh, death, time, award, first, hospital, actor, like, rock\n",
      "\n",
      "Topic 5: said, people, ppe, war, train, right, party, ukraine, would, city, russian, also, say, u, first, vote, one, place, medpro, year\n",
      "\n",
      "Topic 6: say, one, like, time, year, people, first, would, world, get, thing, life, game, back, said, two, day, make, also, way\n",
      "\n",
      "Topic 7: year, one, new, climate, also, work, world, first, april, said, say, like, people, u, specie, film, gallop, many, would, could\n",
      "\n",
      "Topic 8: said, russian, ukraine, russia, war, ukrainian, u, putin, trump, would, president, people, one, biden, country, also, force, city, military, state\n",
      "\n",
      "Topic 9: school, woman, said, child, one, year, family, also, club, say, new, would, two, time, student, people, league, last, education, work\n",
      "\n"
     ]
    }
   ],
   "source": [
    "# print the top 20 words for each topic in March of 2022\n",
    "topics = lda_model_mar.print_topics(num_words=20)\n",
    "for topic_num, topic in topics:\n",
    "    print(f\"Topic {topic_num}: \", end=\"\")\n",
    "    words = topic.split(' + ')\n",
    "    word_list = [word.split('*')[1].strip('\\\"') for word in words] \n",
    "    print(\", \".join(word_list))\n",
    "    print()"
   ]
  },
  {
   "cell_type": "markdown",
   "id": "46b38a28-ed2f-4d13-90a9-ae326ae06b00",
   "metadata": {},
   "source": [
    "#### April 2022"
   ]
  },
  {
   "cell_type": "code",
   "execution_count": 20,
   "id": "6ac9c474-ff29-4e03-b61c-79e5a62cba2f",
   "metadata": {},
   "outputs": [
    {
     "name": "stdout",
     "output_type": "stream",
     "text": [
      "Topic 0: one, say, year, like, time, first, said, also, would, new, people, way, work, world, album, box, two, life, music, last\n",
      "\n",
      "Topic 1: one, person, year, said, people, man, would, also, two, work, soldier, say, court, space, photo, may, time, new, want, life\n",
      "\n",
      "Topic 2: game, team, player, league, club, season, one, first, said, time, football, would, year, two, point, win, last, back, liverpool, goal\n",
      "\n",
      "Topic 3: said, mp, woman, would, people, johnson, one, minister, say, party, labour, tory, conservative, like, time, prime, think, also, year, get\n",
      "\n",
      "Topic 4: said, year, people, would, price, also, new, cost, say, one, time, government, company, month, could, uk, last, need, food, energy\n",
      "\n",
      "Topic 5: say, people, said, one, year, time, way, also, life, first, day, like, could, get, new, police, would, know, university, friend\n",
      "\n",
      "Topic 6: twitter, musk, said, company, would, platform, say, make, one, like, also, social, people, free, speech, oil, user, u, medium, share\n",
      "\n",
      "Topic 7: one, like, time, year, say, people, new, film, first, show, school, world, life, make, work, two, may, feel, way, also\n",
      "\n",
      "Topic 8: say, like, one, time, year, music, trump, also, people, first, day, said, work, way, life, get, back, new, would, thing\n",
      "\n",
      "Topic 9: said, government, would, ukraine, russian, people, russia, war, also, country, one, u, minister, year, ukrainian, new, uk, right, state, could\n",
      "\n"
     ]
    }
   ],
   "source": [
    "# print the top 20 words for each topic in April of 2022\n",
    "topics = lda_model_apr.print_topics(num_words=20)\n",
    "for topic_num, topic in topics:\n",
    "    print(f\"Topic {topic_num}: \", end=\"\")\n",
    "    words = topic.split(' + ')\n",
    "    word_list = [word.split('*')[1].strip('\\\"') for word in words] \n",
    "    print(\", \".join(word_list))\n",
    "    print()"
   ]
  },
  {
   "cell_type": "markdown",
   "id": "5906a2d5-8c66-4b1a-8d30-233b56c79ce1",
   "metadata": {},
   "source": [
    "#### May 2022"
   ]
  },
  {
   "cell_type": "code",
   "execution_count": 21,
   "id": "f6d5d0fc-eb7b-44e1-9c8a-79ede024e2b1",
   "metadata": {},
   "outputs": [
    {
     "name": "stdout",
     "output_type": "stream",
     "text": [
      "Topic 0: said, australia, government, new, party, china, minister, would, labor, climate, liberal, pacific, country, election, seat, australian, policy, albanese, national, people\n",
      "\n",
      "Topic 1: said, people, say, one, year, also, time, would, new, water, like, could, case, uk, get, may, many, community, make, two\n",
      "\n",
      "Topic 2: trump, republican, said, election, state, would, u, house, also, former, candidate, company, georgia, primary, party, court, vote, biden, president, one\n",
      "\n",
      "Topic 3: russian, ukraine, said, russia, war, ukrainian, u, country, people, world, city, force, also, putin, would, military, one, woman, invasion, region\n",
      "\n",
      "Topic 4: season, player, game, one, year, team, league, club, time, first, final, last, said, two, would, say, back, also, like, new\n",
      "\n",
      "Topic 5: said, people, school, child, year, gun, police, would, u, state, one, government, also, time, shooting, law, home, two, family, right\n",
      "\n",
      "Topic 6: one, like, say, time, make, year, people, new, also, way, even, thing, day, work, food, get, queen, garden, may, london\n",
      "\n",
      "Topic 7: said, johnson, would, government, minister, energy, price, cost, year, party, tax, company, mp, one, people, prime, report, could, time, also\n",
      "\n",
      "Topic 8: say, one, like, time, year, life, people, first, woman, get, film, show, would, new, think, work, know, feel, thing, two\n",
      "\n",
      "Topic 9: liverpool, one, league, madrid, year, final, time, champion, real, like, first, would, team, game, season, city, last, two, way, football\n",
      "\n"
     ]
    }
   ],
   "source": [
    "# print the top 20 words for each topic in May of 2022\n",
    "topics = lda_model_may.print_topics(num_words=20)\n",
    "for topic_num, topic in topics:\n",
    "    print(f\"Topic {topic_num}: \", end=\"\")\n",
    "    words = topic.split(' + ')\n",
    "    word_list = [word.split('*')[1].strip('\\\"') for word in words] \n",
    "    print(\", \".join(word_list))\n",
    "    print()"
   ]
  },
  {
   "cell_type": "markdown",
   "id": "3b5323b7-2692-484f-ac84-718692687243",
   "metadata": {},
   "source": [
    "#### June 2022"
   ]
  },
  {
   "cell_type": "code",
   "execution_count": 22,
   "id": "dedd34e9-4415-4196-a521-a3a93e8f5731",
   "metadata": {},
   "outputs": [
    {
     "name": "stdout",
     "output_type": "stream",
     "text": [
      "Topic 0: said, government, would, right, year, people, state, abortion, court, new, also, u, woman, law, say, minister, one, public, decision, uk\n",
      "\n",
      "Topic 1: say, year, one, price, like, people, said, new, also, market, business, cost, time, u, company, make, product, many, money, crypto\n",
      "\n",
      "Topic 2: said, people, year, say, australia, also, climate, new, one, home, time, population, area, food, could, energy, would, change, land, housing\n",
      "\n",
      "Topic 3: film, july, say, year, one, said, first, festival, like, light, work, new, australia, art, also, people, time, artist, tv, world\n",
      "\n",
      "Topic 4: said, johnson, trump, election, party, would, one, labour, tory, people, committee, conservative, minister, mp, time, vote, could, prime, government, also\n",
      "\n",
      "Topic 5: said, ukraine, russian, russia, war, would, country, ukrainian, u, nato, defence, force, putin, also, one, military, year, could, city, people\n",
      "\n",
      "Topic 6: people, one, time, life, child, work, year, like, said, would, first, also, new, way, say, thing, book, vaccine, u, story\n",
      "\n",
      "Topic 7: people, one, year, like, say, life, said, time, work, also, would, new, first, woman, school, u, family, way, london, make\n",
      "\n",
      "Topic 8: england, player, game, team, year, one, said, last, time, first, new, day, football, club, world, could, test, two, city, match\n",
      "\n",
      "Topic 9: one, like, year, say, time, first, people, said, two, get, day, back, also, show, new, would, really, world, going, thing\n",
      "\n"
     ]
    }
   ],
   "source": [
    "# print the top 20 words for each topic in June of 2022\n",
    "topics = lda_model_jun.print_topics(num_words=20)\n",
    "for topic_num, topic in topics:\n",
    "    print(f\"Topic {topic_num}: \", end=\"\")\n",
    "    words = topic.split(' + ')\n",
    "    word_list = [word.split('*')[1].strip('\\\"') for word in words] \n",
    "    print(\", \".join(word_list))\n",
    "    print()"
   ]
  },
  {
   "cell_type": "markdown",
   "id": "81de08ab-7b61-4e88-97e9-794b800d18b9",
   "metadata": {},
   "source": [
    "#### Labelled Topics"
   ]
  },
  {
   "cell_type": "markdown",
   "id": "17ca79b4-d7d3-4288-b84b-96401b498dbd",
   "metadata": {},
   "source": [
    "Below are each topic above labelled:\n",
    "\n",
    "**January**\n",
    "| Index          | Topic    | Words     |\n",
    "| ------------- | ------------- | ------------- |\n",
    "| 0 | Finance, Economics, Public Policy | said, year, price, data, one, people, u, cost, also, service, uk, may, tax, personal, company, last, government, time, rate, bill |\n",
    "| 1 | Sports, Tennis | said, nadal, set, open, match, one, tennis, year, australian, slam, time, first, final, two, also, barty, title, grand, would, win |\n",
    "| 2 | Social Justice, Cultural Issues | woman, court, first, one, supreme, year, black, justice, also, abortion, song, biden, child, died, time, life, bbc, two, case, music |\n",
    "| 3 | International News, Russia-Ukraine War | said, people, would, year, u, say, one, time, also, could, ukraine, country, russia, told, government, day, new, last, right, two |\n",
    "| 4 | Revisiting Partygate From Last Year | said, report, police, gray, would, investigation, inquiry, met, one, year, say, time, could, people, evidence, also, minister, party, johnson, full |\n",
    "| 5 | Sports, Tournament | one, like, time, first, game, year, say, get, two, thing, team, back, good, last, make, really, new, world, play, would |\n",
    "| 6 | Australian COVID-19 Measures | said, government, people, year, new, would, health, covid, school, also, pandemic, child, australia, country, need, vaccine, care, time, case, one |\n",
    "| 7 | Sports | one, year, also, would, said, like, new, club, time, work, say, people, first, player, world, could, way, u, make, day |\n",
    "| 8 | General Life | said, say, one, people, year, test, also, time, like, would, new, first, day, week, two, get, back, going, last, care |\n",
    "| 9 | Politics | johnson, said, minister, party, would, government, prime, one, mp, people, time, tory, u, could, conservative, also, week, political, former, right |\n",
    "\n",
    "\n",
    "**February**\n",
    "| Index          | Topic    | Words     |\n",
    "| ------------- | ------------- | ------------- |\n",
    "| 0 | General News | person, said, one, two, court, time, told, like, game, word, also, round, letter, would, minute, first, add, man, get, another |\n",
    "| 1 | Energy, Environment | said, would, energy, agl, plant, year, australia, company, coal, government, last, power, abortion, frog, woman, new, one, also, price, police |\n",
    "| 2 | UK Nature | say, garden, one, get, fish, wale, year, time, also, plant, would, home, like, scotland, back, good, two, hallos, way, food |\n",
    "| 3 | Soccer, Sports | game, team, one, said, player, league, time, two, season, year, first, last, would, club, goal, england, back, win, three, city |\n",
    "| 4 | Film, Arts & Culture | say, one, like, people, year, time, life, first, new, work, get, would, make, way, show, also, thing, film, world, feel |\n",
    "| 5 | Social Issues, Women's Rights | said, court, woman, year, people, would, say, school, police, child, also, one, u, case, government, time, right, student, group, justice |\n",
    "| 6 | COVID-19 | said, people, government, year, health, covid, would, new, pandemic, also, say, one, time, could, service, uk, home, public, worker, need |\n",
    "| 7 | Russian-Ukraine War | said, ukraine, russian, russia, putin, ukrainian, would, people, country, war, u, government, also, minister, invasion, military, force, president, kyiv, sanction |\n",
    "| 8 | Energy, Russian-Ukraine Crises | price, gas, russia, said, ukraine, energy, oil, russian, market, bank, could, year, would, u, supply, europe, world, cost, country, crisis |\n",
    "| 9 | US-UK Relations | said, company, bank, would, uk, russian, year, trump, also, sanction, u, new, business, russia, government, country, one, including, state, former |\n",
    "\n",
    "\n",
    "**March**\n",
    "| Index          | Topic    | Words     |\n",
    "| ------------- | ------------- | ------------- |\n",
    "| 0 | Lifestyle | say, said, one, like, time, would, people, also, year, two, spa, day, first, make, back, new, flood, water, could, get |\n",
    "| 1 | Royal Family, Colonialism | one, news, royal, british, bbc, said, u, two, letter, slavery, time, year, william, people, caribbean, jamaica, world, reparation, britain, human |\n",
    "| 2 | Family-Related Social Issues | said, year, told, person, would, court, australia, new, people, child, also, family, one, study, time, work, health, two, guardian, could |\n",
    "| 3 | Politics | said, government, would, year, people, uk, minister, also, cost, could, australia, new, price, last, week, energy, company, time, country, tax |\n",
    "| 4 | COVID-19 and Entertainment | people, said, covid, smith, best, oscar, health, one, year, also, film, nh, death, time, award, first, hospital, actor, like, rock |\n",
    "| 5 | Politics, Russian-Ukraine | said, people, ppe, war, train, right, party, ukraine, would, city, russian, also, say, u, first, vote, one, place, medpro, year |\n",
    "| 6 | General Reflection | say, one, like, time, year, people, first, would, world, get, thing, life, game, back, said, two, day, make, also, way |\n",
    "| 7 | Environment, Climate | year, one, new, climate, also, work, world, first, april, said, say, like, people, u, specie, film, gallop, many, would, could |\n",
    "| 8 | Russian-Ukraine War | said, russian, ukraine, russia, war, ukrainian, u, putin, trump, would, president, people, one, biden, country, also, force, city, military, state |\n",
    "| 9 | Education | school, woman, said, child, one, year, family, also, club, say, new, would, two, time, student, people, league, last, education, work |\n",
    "\n",
    "\n",
    "**April**\n",
    "| Index          | Topic    | Words     |\n",
    "| ------------- | ------------- | ------------- |\n",
    "| 0 | Life, Media | one, say, year, like, time, first, said, also, would, new, people, way, work, world, album, box, two, life, music, last |\n",
    "| 1 | Society | one, person, year, said, people, man, would, also, two, work, soldier, say, court, space, photo, may, time, new, want, life |\n",
    "| 2 | Sports, Football/Soccer | game, team, player, league, club, season, one, first, said, time, football, would, year, two, point, win, last, back, liverpool, goal |\n",
    "| 3 | UK Politics | said, mp, woman, would, people, johnson, one, minister, say, party, labour, tory, conservative, like, time, prime, think, also, year, get |\n",
    "| 4 | Economics | said, year, people, would, price, also, new, cost, say, one, time, government, company, month, could, uk, last, need, food, energy |\n",
    "| 5 | Opinion | say, people, said, one, year, time, way, also, life, first, day, like, could, get, new, police, would, know, university, friend |\n",
    "| 6 | Social Media | twitter, musk, said, company, would, platform, say, make, one, like, also, social, people, free, speech, oil, user, u, medium, share |\n",
    "| 7 | Education, Art and Film | one, like, time, year, say, people, new, film, first, show, school, world, life, make, work, two, may, feel, way, also |\n",
    "| 8 | US News, Society | say, like, one, time, year, music, trump, also, people, first, day, said, work, way, life, get, back, new, would, thing |\n",
    "| 9 | World News, Russian-Ukraine Conflict | said, government, would, ukraine, russian, people, russia, war, also, country, one, u, minister, year, ukrainian, new, uk, right, state, could |\n",
    "\n",
    "\n",
    "**May**\n",
    "| Index          | Topic    | Words     |\n",
    "| ------------- | ------------- | ------------- |\n",
    "| 0 | Australian Politics | said, australia, government, new, party, china, minister, would, labor, climate, liberal, pacific, country, election, seat, australian, policy, albanese, national, people |\n",
    "| 1 | UK News, Society | said, people, say, one, year, also, time, would, new, water, like, could, case, uk, get, may, many, community, make, two |\n",
    "| 2 | US Politics | trump, republican, said, election, state, would, u, house, also, former, candidate, company, georgia, primary, party, court, vote, biden, president, one |\n",
    "| 3 | World News, Russian-Ukraine Conflict | russian, ukraine, said, russia, war, ukrainian, u, country, people, world, city, force, also, putin, would, military, one, woman, invasion, region |\n",
    "| 4 | Sports | season, player, game, one, year, team, league, club, time, first, final, last, said, two, would, say, back, also, like, new |\n",
    "| 5 | US News, Public Safety, Law | said, people, school, child, year, gun, police, would, u, state, one, government, also, time, shooting, law, home, two, family, right |\n",
    "| 6 | UK News, Culture, Society | one, like, say, time, make, year, people, new, also, way, even, thing, day, work, food, get, queen, garden, may, london |\n",
    "| 7 | Politics | said, johnson, would, government, minister, energy, price, cost, year, party, tax, company, mp, one, people, prime, report, could, time, also |\n",
    "| 8 | Film | say, one, like, time, year, life, people, first, woman, get, film, show, would, new, think, work, know, feel, thing, two |\n",
    "| 9 | Sports, Football/Soccer | liverpool, one, league, madrid, year, final, time, champion, real, like, first, would, team, game, season, city, last, two, way, football |\n",
    "\n",
    "\n",
    "**June**\n",
    "| Index          | Topic    | Words     |\n",
    "| ------------- | ------------- | ------------- |\n",
    "| 0 | UK Politics, Law | said, government, would, right, year, people, state, abortion, court, new, also, u, woman, law, say, minister, one, public, decision, uk |\n",
    "| 1 | Business, Economics | say, year, one, price, like, people, said, new, also, market, business, cost, time, u, company, make, product, many, money, crypto |\n",
    "| 2 | Environment | said, people, year, say, australia, also, climate, new, one, home, time, population, area, food, could, energy, would, change, land, housing |\n",
    "| 3 | Australian News, Film, Arts, Culture | film, july, say, year, one, said, first, festival, like, light, work, new, australia, art, also, people, time, artist, tv, world |\n",
    "| 4 | Politics, Elections | said, johnson, trump, election, party, would, one, labour, tory, people, committee, conservative, minister, mp, time, vote, could, prime, government, also |\n",
    "| 5 | World News, Russian-Ukraine Conflict, Military | said, ukraine, russian, russia, war, would, country, ukrainian, u, nato, defence, force, putin, also, one, military, year, could, city, people |\n",
    "| 6 | US News | people, one, time, life, child, work, year, like, said, would, first, also, new, way, say, thing, book, vaccine, u, story |\n",
    "| 7 | Life, Society | people, one, year, like, say, life, said, time, work, also, would, new, first, woman, school, u, family, way, london, make |\n",
    "| 8 | Sports, Football/Soccer | england, player, game, team, year, one, said, last, time, first, new, day, football, club, world, could, test, two, city, match |\n",
    "| 9 | Opinion | one, like, year, say, time, first, people, said, two, get, day, back, also, show, new, would, really, world, going, thing |"
   ]
  },
  {
   "cell_type": "code",
   "execution_count": null,
   "id": "4ece3d7c-dc23-4c64-910e-fe0fee81f79f",
   "metadata": {},
   "outputs": [],
   "source": []
  }
 ],
 "metadata": {
  "kernelspec": {
   "display_name": "Python 3 (ipykernel)",
   "language": "python",
   "name": "python3"
  },
  "language_info": {
   "codemirror_mode": {
    "name": "ipython",
    "version": 3
   },
   "file_extension": ".py",
   "mimetype": "text/x-python",
   "name": "python",
   "nbconvert_exporter": "python",
   "pygments_lexer": "ipython3",
   "version": "3.12.7"
  }
 },
 "nbformat": 4,
 "nbformat_minor": 5
}
