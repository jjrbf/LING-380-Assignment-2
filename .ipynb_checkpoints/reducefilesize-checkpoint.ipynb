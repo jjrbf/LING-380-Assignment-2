{
 "cells": [
  {
   "cell_type": "markdown",
   "id": "ec9e4f4f-ec04-41fe-a5b2-7e503b6beff9",
   "metadata": {},
   "source": [
    "# Reducing File Size"
   ]
  },
  {
   "cell_type": "markdown",
   "id": "5890f24d-f28f-463d-b7e5-72c4adb0673a",
   "metadata": {},
   "source": [
    "The original file from [Kaggle](https://www.kaggle.com/datasets/adityakharosekar2/guardian-news-articles?resource=download) is over 700MB big. The following code is used to reduce the file size by limiting the entries written in 2022 and removing all rows with empty body text."
   ]
  },
  {
   "cell_type": "code",
   "execution_count": 1,
   "id": "21fa4e97-3b01-46e3-9fab-ffb2a712a35d",
   "metadata": {},
   "outputs": [],
   "source": [
    "import csv\n",
    "\n",
    "# Set a safe field size limit (1 GB)\n",
    "csv.field_size_limit(1024 * 1024 * 1024)\n",
    "\n",
    "input_file = \"data/guardian_articles.csv\"\n",
    "output_file = \"data/guardian_articles_2022.csv\"\n",
    "\n",
    "with open(input_file, mode='r', encoding='utf-8') as infile, \\\n",
    "     open(output_file, mode='w', encoding='utf-8', newline='') as outfile:\n",
    "    \n",
    "    reader = csv.reader(infile)\n",
    "    writer = csv.writer(outfile)\n",
    "\n",
    "    # Write the header\n",
    "    header = next(reader)\n",
    "    writer.writerow(header)\n",
    "\n",
    "    for row in reader:\n",
    "        if len(row) > 5:\n",
    "            pub_date = row[5]\n",
    "            body_content = row[4].strip()  # Remove whitespace just in case\n",
    "\n",
    "            if pub_date.startswith(\"2022\") and body_content:\n",
    "                writer.writerow(row)"
   ]
  }
 ],
 "metadata": {
  "kernelspec": {
   "display_name": "Python 3 (ipykernel)",
   "language": "python",
   "name": "python3"
  },
  "language_info": {
   "codemirror_mode": {
    "name": "ipython",
    "version": 3
   },
   "file_extension": ".py",
   "mimetype": "text/x-python",
   "name": "python",
   "nbconvert_exporter": "python",
   "pygments_lexer": "ipython3",
   "version": "3.12.7"
  }
 },
 "nbformat": 4,
 "nbformat_minor": 5
}
